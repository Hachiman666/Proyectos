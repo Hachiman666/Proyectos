{
  "nbformat": 4,
  "nbformat_minor": 0,
  "metadata": {
    "colab": {
      "provenance": []
    },
    "kernelspec": {
      "name": "python3",
      "display_name": "Python 3"
    },
    "language_info": {
      "name": "python"
    }
  },
  "cells": [
    {
      "cell_type": "code",
      "source": [
        "import random\n",
        "import tensorflow as tf\n",
        "from tensorflow import random\n",
        "import numpy as np\n",
        "from keras import Sequential\n",
        "from keras.layers import Flatten, Dense , Activation\n",
        "from sklearn import preprocessing\n",
        "from keras.utils import to_categorical\n",
        "\n",
        "np.random.seed(32)\n",
        "\n",
        "\n",
        "Xand = np.array([[0,0],[0,1],[1,0],[1,1]], dtype=\"float32\")\n",
        "Yand = np.array([0,0,0,1], dtype=\"float32\")\n",
        "Xor = np.array([[0,0],[0,1],[1,0],[1,1]], dtype=\"float32\")\n",
        "Yor = np.array([0,1,1,1], dtype=\"float32\")\n",
        "Xxor = np.array([[0,0],[0,1],[1,0],[1,1]],\"float32\")\n",
        "Yxor = np.array([0,1,1,0], \"float32\")\n",
        "Xej1 = np.array([[2,0],[0,0],[2,2],[0,1],[1,1],[1,2]],dtype=\"float32\")\n",
        "Yej1 = np.array([1,0,1,0,1,0],dtype=\"float32\")\n",
        "Xejms = np.array([[0,0,0],[0,0,1],[0,1,0],[0,1,1],[1,0,0],[1,0,1],[1,1,0],[1,1,1]], dtype=\"float32\")\n",
        "Yejms = np.array([0,0,0,1,0,1,1,1], dtype=\"float32\")\n",
        "Xejp = np.array([[0,0,0,0],[0,0,0,1],[0,0,1,0],[0,0,1,1],[0,1,0,0],[0,1,0,1],[0,1,1,0],[0,1,1,1],\n",
        "                 [1,0,0,0],[1,0,0,1],[1,0,1,0],[1,0,1,1],[1,1,0,0],[1,1,0,1],[1,1,1,0],[1,1,1,1]], dtype=\"float32\")\n",
        "Yejp = np.array([1,0,0,1,0,1,1,0,0,1,1,0,1,0,0,1], dtype=\"float32\")"
      ],
      "metadata": {
        "id": "2V5UmVgbKLi7"
      },
      "execution_count": null,
      "outputs": []
    },
    {
      "cell_type": "code",
      "source": [
        "def ModeloEnt(X, Y, ncapas, nneuroxcapa, nepocas):\n",
        "    model = Sequential()\n",
        "    model.add(Dense(nneuroxcapa[0], activation='relu', input_dim=X.shape[1]))\n",
        "    for i in range(1, ncapas):\n",
        "        model.add(Dense(nneuroxcapa[i], activation='relu'))\n",
        "    model.add(Dense(1, activation='sigmoid'))\n",
        "\n",
        "    model.compile(loss='binary_crossentropy', optimizer='adam', metrics=['accuracy'])\n",
        "    model.fit(X, Y, epochs=nepocas, verbose=0)\n",
        "    print(\"Entrenando...\")\n",
        "    loss, accuracy = model.evaluate(X, Y, verbose=0)\n",
        "    print(f'Loss: {loss}, Accuracy: {accuracy}')\n",
        "\n",
        "    Y_predict = model.predict(X)\n",
        "    for i in range(len(X)):\n",
        "        print(f'X: {X[i]}, Y: {Y[i]}, Y Predecida: {Y_predict[i][0]}')"
      ],
      "metadata": {
        "id": "DBVyl1eXW0TY"
      },
      "execution_count": null,
      "outputs": []
    },
    {
      "cell_type": "code",
      "source": [
        "while True:\n",
        "    op = int(input(\"\\n1.Función AND\\n2.Función OR\\n3.Función XOR\\n4.Ejercicio 1\\n5.Ejercio de Mayoría-Simple\\n6.Ejercicio de Paridad\\n0.Salir del menu\\n\"\n",
        "                  \"Elija una opcion: \"))\n",
        "\n",
        "    if op == 0:\n",
        "        print(\"Saliendo del programa...\")\n",
        "        break\n",
        "    elif op == 1:\n",
        "        ncapas = int(input(\"Introduce el numero de capas: \"))\n",
        "        nneuroxcapa = [int(input(f\"Introduce el numero de las neuronas de las capas {i+1}: \")) for i in range(ncapas)]\n",
        "        nepocas = int(input(\"Introduce el numero de epocas que realizara la red neuronal: \"))\n",
        "        ModeloEnt(Xand,Yand,ncapas,nneuroxcapa,nepocas)\n",
        "    elif op == 2:\n",
        "        ncapas = int(input(\"Introduce el numero de capas: \"))\n",
        "        nneuroxcapa = [int(input(f\"Introduce el numero de las neuronas de las capas {i+1}: \")) for i in range(ncapas)]\n",
        "        nepocas = int(input(\"Introduce el numero de epocas que realizara la red neuronal: \"))\n",
        "        ModeloEnt(Xor,Yor,ncapas,nneuroxcapa,nepocas)\n",
        "    elif op == 3:\n",
        "        ncapas = int(input(\"Introduce el numero de capas: \"))\n",
        "        nneuroxcapa = [int(input(f\"Introduce el numero de las neuronas de las capas {i+1}: \")) for i in range(ncapas)]\n",
        "        nepocas = int(input(\"Introduce el numero de epocas que realizara la red neuronal: \"))\n",
        "        ModeloEnt(Xxor,Yxor,ncapas,nneuroxcapa,nepocas)\n",
        "    elif op == 4:\n",
        "        ncapas = int(input(\"Introduce el numero de capas: \"))\n",
        "        nneuroxcapa = [int(input(f\"Introduce el numero de las neuronas de las capas {i+1}: \")) for i in range(ncapas)]\n",
        "        nepocas = int(input(\"Introduce el numero de epocas que realizara la red neuronal: \"))\n",
        "        ModeloEnt(Xej1,Yej1,ncapas,nneuroxcapa,nepocas)\n",
        "    elif op == 5:\n",
        "        ncapas = int(input(\"Introduce el numero de capas: \"))\n",
        "        nneuroxcapa = [int(input(f\"Introduce el numero de las neuronas de las capas {i+1}: \")) for i in range(ncapas)]\n",
        "        nepocas = int(input(\"Introduce el numero de epocas que realizara la red neuronal: \"))\n",
        "        ModeloEnt(Xejms,Yejms,ncapas,nneuroxcapa,nepocas)\n",
        "    elif op == 6:\n",
        "        ncapas = int(input(\"Introduce el numero de capas: \"))\n",
        "        nneuroxcapa = [int(input(f\"Introduce el numero de las neuronas de las capas {i+1}: \")) for i in range(ncapas)]\n",
        "        nepocas = int(input(\"Introduce el numero de epocas que realizara la red neuronal: \"))\n",
        "        ModeloEnt(Xejp,Yejp,ncapas,nneuroxcapa,nepocas)\n",
        "    else:\n",
        "        print(\"\\nOpcion invalida\")"
      ],
      "metadata": {
        "colab": {
          "base_uri": "https://localhost:8080/",
          "height": 436
        },
        "id": "0OohhbXpM9qI",
        "outputId": "a76594a1-9e2a-4c0b-9f2c-29a0ece2d521"
      },
      "execution_count": null,
      "outputs": [
        {
          "name": "stdout",
          "output_type": "stream",
          "text": [
            "\n",
            "1.Función AND\n",
            "2.Función OR\n",
            "3.Función XOR\n",
            "4.Ejercicio 1\n",
            "5.Ejercio de Mayoría-Simple\n",
            "6.Ejercicio de Paridad\n",
            "0.Salir del menu\n",
            "Elija una opcion: 1\n",
            "Introduce el numero de capas: 2\n",
            "Introduce el numero de las neuronas de las capas 1: 3\n",
            "Introduce el numero de las neuronas de las capas 2: 2\n",
            "Introduce el numero de epocas que realizara la red neuronal: 5\n"
          ]
        },
        {
          "output_type": "error",
          "ename": "NameError",
          "evalue": "name 'ModeloEnt' is not defined",
          "traceback": [
            "\u001b[0;31m---------------------------------------------------------------------------\u001b[0m",
            "\u001b[0;31mNameError\u001b[0m                                 Traceback (most recent call last)",
            "\u001b[0;32m<ipython-input-1-606745b66c3f>\u001b[0m in \u001b[0;36m<cell line: 1>\u001b[0;34m()\u001b[0m\n\u001b[1;32m     10\u001b[0m         \u001b[0mnneuroxcapa\u001b[0m \u001b[0;34m=\u001b[0m \u001b[0;34m[\u001b[0m\u001b[0mint\u001b[0m\u001b[0;34m(\u001b[0m\u001b[0minput\u001b[0m\u001b[0;34m(\u001b[0m\u001b[0;34mf\"Introduce el numero de las neuronas de las capas {i+1}: \"\u001b[0m\u001b[0;34m)\u001b[0m\u001b[0;34m)\u001b[0m \u001b[0;32mfor\u001b[0m \u001b[0mi\u001b[0m \u001b[0;32min\u001b[0m \u001b[0mrange\u001b[0m\u001b[0;34m(\u001b[0m\u001b[0mncapas\u001b[0m\u001b[0;34m)\u001b[0m\u001b[0;34m]\u001b[0m\u001b[0;34m\u001b[0m\u001b[0;34m\u001b[0m\u001b[0m\n\u001b[1;32m     11\u001b[0m         \u001b[0mnepocas\u001b[0m \u001b[0;34m=\u001b[0m \u001b[0mint\u001b[0m\u001b[0;34m(\u001b[0m\u001b[0minput\u001b[0m\u001b[0;34m(\u001b[0m\u001b[0;34m\"Introduce el numero de epocas que realizara la red neuronal: \"\u001b[0m\u001b[0;34m)\u001b[0m\u001b[0;34m)\u001b[0m\u001b[0;34m\u001b[0m\u001b[0;34m\u001b[0m\u001b[0m\n\u001b[0;32m---> 12\u001b[0;31m         \u001b[0mModeloEnt\u001b[0m\u001b[0;34m(\u001b[0m\u001b[0mXand\u001b[0m\u001b[0;34m,\u001b[0m\u001b[0mYand\u001b[0m\u001b[0;34m,\u001b[0m\u001b[0mncapas\u001b[0m\u001b[0;34m,\u001b[0m\u001b[0mnneuroxcapa\u001b[0m\u001b[0;34m,\u001b[0m\u001b[0mnepocas\u001b[0m\u001b[0;34m)\u001b[0m\u001b[0;34m\u001b[0m\u001b[0;34m\u001b[0m\u001b[0m\n\u001b[0m\u001b[1;32m     13\u001b[0m     \u001b[0;32melif\u001b[0m \u001b[0mop\u001b[0m \u001b[0;34m==\u001b[0m \u001b[0;36m2\u001b[0m\u001b[0;34m:\u001b[0m\u001b[0;34m\u001b[0m\u001b[0;34m\u001b[0m\u001b[0m\n\u001b[1;32m     14\u001b[0m         \u001b[0mncapas\u001b[0m \u001b[0;34m=\u001b[0m \u001b[0mint\u001b[0m\u001b[0;34m(\u001b[0m\u001b[0minput\u001b[0m\u001b[0;34m(\u001b[0m\u001b[0;34m\"Introduce el numero de capas: \"\u001b[0m\u001b[0;34m)\u001b[0m\u001b[0;34m)\u001b[0m\u001b[0;34m\u001b[0m\u001b[0;34m\u001b[0m\u001b[0m\n",
            "\u001b[0;31mNameError\u001b[0m: name 'ModeloEnt' is not defined"
          ]
        }
      ]
    }
  ]
}