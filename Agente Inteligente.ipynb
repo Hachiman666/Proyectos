{
  "cells": [
    {
      "cell_type": "code",
      "execution_count": null,
      "metadata": {
        "id": "zkeXVPWaH7SR",
        "colab": {
          "base_uri": "https://localhost:8080/"
        },
        "outputId": "295448ca-3c73-4803-f07b-40d6b89ce194"
      },
      "outputs": [
        {
          "output_type": "stream",
          "name": "stdout",
          "text": [
            "Introduzca el numero de entradas: 4\n",
            "Ingrese el valor de w1: 1\n",
            "Ingrese el valor de w2: 1\n",
            "Ingrese el valor de w3: 1\n",
            "Ingrese el valor de w4: 1\n",
            "Introduzca valor del umbral: 3\n",
            "x1| x2| x3| x4| S\n",
            "-------------\n",
            "0 | 0 | 0 | 0 | 0 \n",
            "0 | 0 | 0 | 1 | 0 \n",
            "0 | 0 | 1 | 0 | 0 \n",
            "0 | 0 | 1 | 1 | 0 \n",
            "0 | 1 | 0 | 0 | 0 \n",
            "0 | 1 | 0 | 1 | 0 \n",
            "0 | 1 | 1 | 0 | 0 \n",
            "0 | 1 | 1 | 1 | 0 \n",
            "1 | 0 | 0 | 0 | 0 \n",
            "1 | 0 | 0 | 1 | 0 \n",
            "1 | 0 | 1 | 0 | 0 \n",
            "1 | 0 | 1 | 1 | 0 \n",
            "1 | 1 | 0 | 0 | 0 \n",
            "1 | 1 | 0 | 1 | 0 \n",
            "1 | 1 | 1 | 0 | 0 \n",
            "1 | 1 | 1 | 1 | 1 \n"
          ]
        }
      ],
      "source": [
        "def generarTabla(nEntradas):\n",
        "    entradas = []\n",
        "    pesos = []\n",
        "    for i in range(nEntradas):\n",
        "        entradas.append(f'x{i+1}')\n",
        "        pesos.append(float(input(f\"Ingrese el valor de w{i+1}: \")))\n",
        "\n",
        "    umbral = float(input('Introduzca valor del umbral: '))\n",
        "    print('| '.join(entradas) + '| S')\n",
        "    print('-' * (len(entradas) + 9))\n",
        "\n",
        "    rows = 2 ** nEntradas\n",
        "    for i in range(rows):\n",
        "        binario = bin(i)[2:].zfill(nEntradas)\n",
        "        valores = [int(bit) for bit in binario]\n",
        "        sumatoria = sum(x*w for x, w in zip(valores, pesos))\n",
        "        salida = 1 if sumatoria > umbral else 0\n",
        "        print(' | '.join(str(bit) for bit in valores) + f' | {salida} ')\n",
        "\n",
        "n = int(input('Introduzca el numero de entradas: ' ))\n",
        "generarTabla(n)"
      ]
    }
  ],
  "metadata": {
    "colab": {
      "provenance": []
    },
    "kernelspec": {
      "display_name": "Python 3",
      "name": "python3"
    },
    "language_info": {
      "name": "python"
    }
  },
  "nbformat": 4,
  "nbformat_minor": 0
}